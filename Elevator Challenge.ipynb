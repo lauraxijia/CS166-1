{
 "cells": [
  {
   "cell_type": "markdown",
   "metadata": {},
   "source": [
    "* By passenger, we mean someone in the building who is waiting to use or is currently using the elevator.\n",
    "* The user of your classes should be able to customize the number of floors and passengers in the building.\n",
    "* The passenger’s starting floor should be random, and they should have a random destination. (It’s up to you to determine what random should mean here.)\n",
    "* Each passenger uses the elevator only once.\n",
    "* (Would be nice) The program should have error checking to ensure valid user input."
   ]
  },
  {
   "cell_type": "code",
   "execution_count": 2,
   "metadata": {},
   "outputs": [],
   "source": [
    "from random import randint, choice\n",
    "from copy import deepcopy\n",
    "import matplotlib.pyplot as plt"
   ]
  },
  {
   "cell_type": "code",
   "execution_count": 3,
   "metadata": {},
   "outputs": [],
   "source": [
    "class Elevator(object):\n",
    "    \"\"\"An elevator class. \n",
    "    It has position, passengers inside and direction. \n",
    "    \"\"\"\n",
    "\n",
    "    def __init__(self, building, verbose, capacity = 10):\n",
    "        self.current_floor = 0\n",
    "        self.direction_up = True # True is up, False is down\n",
    "        self.register_list = [] # passengers inside elevator\n",
    "        self.capacity = capacity \n",
    "        self.verbose = verbose #whether we want to print or not\n",
    "        self.building = building # reference to building, circular reference is okay in this case \n",
    "                                 # since we don't need to worry about garbage collection when each is \n",
    "                                 # only instantiated twice\n",
    "                                 # http://engineering.hearsaysocial.com/2013/06/16/circular-references-in-python/          \n",
    "\n",
    "    def move(self):\n",
    "        \"\"\"Method for elevator movement.\n",
    "        In every step elevator either goes a floor higher or a floor lower.\n",
    "        \"\"\"\n",
    "        self.current_floor += 1 if self.direction_up else -1\n",
    "    \n",
    "    def enter_passengers(self):\n",
    "        \"\"\"Method to get in all passengers and erase them from the list\n",
    "        Gets waiting passengers at current floor as long as capacity permits and they are going in elevator direction\n",
    "        \"\"\"\n",
    "        entered = False\n",
    "        for passenger in [waiter for waiter in self.building.waiting_list]: # copy so we can rm from original list\n",
    "            if (passenger.start_floor == self.current_floor and len(self.register_list) < self.capacity and\n",
    "                (self.current_floor == 0 or self.current_floor == self.building.num_of_floors - 1 or \n",
    "                 (self.direction_up and passenger.start_floor < passenger.dst_floor) or \n",
    "                 (not self.direction_up and passenger.start_floor > passenger.dst_floor))):\n",
    "                \n",
    "                entered = True\n",
    "                self.register_list.append(passenger)\n",
    "                self.building.waiting_list.remove(passenger)\n",
    "                if self.verbose: \n",
    "                    print (\"Elevator picks up passenger %d on floor %d\"% (passenger.ID, passenger.start_floor))\n",
    "        return entered # return value so we can track if time cost was incurred\n",
    "            \n",
    "    def exit_passengers(self):\n",
    "        \"\"\"Function to remove all passengers on their destination floor.\n",
    "        It is called in run method of the building class.\n",
    "        \"\"\"\n",
    "        exited = False\n",
    "        for passenger in [reg for reg in self.register_list]:\n",
    "            if passenger.dst_floor == self.current_floor:\n",
    "                exited = True\n",
    "                self.register_list.remove(passenger)\n",
    "                passenger.end_waittime = self.building.time_step\n",
    "                self.building.list_of_waittimes.append(passenger.end_waittime - passenger.start_waittime)\n",
    "                if self.verbose: \n",
    "                    print(\"Elevator drops off passenger %d on floor %d\"% (passenger.ID, passenger.dst_floor))\n",
    "        return exited # return value to track if time cost was incured"
   ]
  },
  {
   "cell_type": "code",
   "execution_count": 4,
   "metadata": {},
   "outputs": [],
   "source": [
    "class Passenger(object):\n",
    "    \"\"\"A passenger class. \n",
    "    A passenger has his or her ID number, starting floor and destination floor number\n",
    "    \"\"\"\n",
    "\n",
    "    def __init__(self, ID, floorsNum):\n",
    "        \"\"\"Initializes values for passenger and select random floors to start\n",
    "        Destination floor and starting floor differ\n",
    "        \"\"\"\n",
    "        self.ID = ID\n",
    "        self.start_floor = choice([0] * (floorsNum // 2) + [i for i in range(floorsNum)])\n",
    "        self.dst_floor = choice([0] * (self.start_floor != 0) * (floorsNum // 2) + [i for i in range(floorsNum) if i != self.start_floor])\n",
    "        self.start_waittime = 0\n",
    "        self.end_waittime = None"
   ]
  },
  {
   "cell_type": "code",
   "execution_count": 15,
   "metadata": {},
   "outputs": [],
   "source": [
    "class Building(object):\n",
    "    \"\"\"A building class.\n",
    "    Building had number of floors, list of passengers outside the elevator and its own elevator object.\n",
    "    Strategy of an elevator is set by integer, where 0 is default and 1 is another very naive strategy.\n",
    "    \"\"\"\n",
    "    MOVE_COST_FACTOR = 2\n",
    "    ENTER_COST_FACTOR = 1\n",
    "    EXIT_COST_FACTOR = 1 \n",
    "\n",
    "    def __init__(self, strategy_func, floors = None, passengers = None, capacity = None, verbose = True):\n",
    "        \"\"\"Makes building class and addes list of passengers\n",
    "        The list is sorted by starting floor value for efficacy.\n",
    "        Manual input and parameter input of key params is supported\n",
    "        \"\"\"\n",
    "        self.num_of_floors = floors or self.get_value(\"Please write number of floors in the building: \",\\\n",
    "                                   \"Incorrect value. Number of floors should be an integer higher than 1.\", 2)\n",
    "\n",
    "        self.passengers_num = passengers or self.get_value(\"Please write number of passengers: \",\\\n",
    "                                    \"Incorrect value. Number of passengers should be a non-negative integer.\", 0)\n",
    "        \n",
    "        capacity = capacity or self.get_value(\"Please write maximum capacity of the elevator: \",\\\n",
    "                                    \"Incorrect value. Capacity should be a non-negative integer.\", 0)\n",
    "        \n",
    "        self.strategy_func = strategy_func\n",
    "        self.verbose = verbose\n",
    "        self.elevator = Elevator(self, verbose, capacity=capacity)\n",
    "        self.time_step = 0 \n",
    "        self.list_of_waittimes = [] \n",
    "        \n",
    "        self.waiting_list = []\n",
    "        for i in range(self.passengers_num):\n",
    "            self.waiting_list.append(Passenger(i, self.num_of_floors))\n",
    "            self.waiting_list = sorted(self.waiting_list, key=lambda x: x.start_floor) \n",
    "    \n",
    "    def get_value(self, message, incorret_message, minimal):\n",
    "        \"\"\"Method for making sure to obtain integer input\n",
    "        \"\"\"\n",
    "        val = None\n",
    "        try:\n",
    "            val = int(raw_input(message))\n",
    "        except ValueError:\n",
    "            print incorret_message\n",
    "            return self.get_value(message, incorret_message, minimal)\n",
    "        if val < minimal:\n",
    "            print incorret_message\n",
    "            return self.get_value(message, incorret_message, minimal)\n",
    "        else:\n",
    "            return val\n",
    "\n",
    "    def run(self):\n",
    "        \"\"\"Runs the elevator until done, in each iteration:\n",
    "        1. waiting passengers enter the elevator (register_passenger)\n",
    "        2. the elevator is assigned a direction value\n",
    "        3. elevator moves one floor up or down\n",
    "        4. passengers on destination floors leaves the elevator (cancel_passenger)\n",
    "        \"\"\"        \n",
    "        while self.waiting_list or self.elevator.register_list:\n",
    "            exit = self.elevator.exit_passengers()\n",
    "            enter = self.elevator.enter_passengers()\n",
    "            self.strategy_func(self.elevator)\n",
    "            self.elevator.move()\n",
    "            self.time_step += Building.MOVE_COST_FACTOR * 1  + Building.EXIT_COST_FACTOR * exit + Building.ENTER_COST_FACTOR * enter \n",
    "        \n",
    "        if self.verbose:  \n",
    "            print \"Wait time of passengers\", self.list_of_waittimes\n",
    "            plt.hist(self.list_of_waittimes, normed = True, bins=10)\n",
    "            plt.show()\n",
    "        return self.time_step"
   ]
  },
  {
   "cell_type": "code",
   "execution_count": 16,
   "metadata": {},
   "outputs": [],
   "source": [
    "# Here we define the different strategies our elevator can follow\n",
    "def direction_default_strategy(self):\n",
    "    \"\"\"Default function of elevator work - \n",
    "    it starts with going to the roof of building, then\n",
    "    comes back to the first floor.\n",
    "    \"\"\"\n",
    "    if self.current_floor >= self.building.num_of_floors:\n",
    "         self.direction_up = False\n",
    "    elif self.current_floor <= 0:\n",
    "        self.direction_up = True\n",
    "\n",
    "def direction_bad_strategy(self):\n",
    "    \"\"\"Example function of very bad strategy. Elevator takes desired floor of the first\n",
    "    passenger and elevates him to desired location, then repeats for the next passenger.\n",
    "    If no passenger is in elevator it just goes to the up and down, as in default strategy.\n",
    "    \"\"\"\n",
    "    if len(self.register_list) is 0:\n",
    "        direction_default_strategy(self)\n",
    "        return\n",
    "    firstval = self.register_list[0].dst_floor\n",
    "    if self.current_floor > firstval:\n",
    "        self.direction_up = False\n",
    "    else:\n",
    "        self.direction_up = True\n",
    "        \n",
    "def smart_train_strategy(self):\n",
    "    \"\"\"Similar to default -moving like a train- except it does not go all the way up or down\n",
    "    if it has no reason to.\n",
    "    \"\"\"\n",
    "\n",
    "    if self.direction_up: # check if there is something to do above\n",
    "        cont = False\n",
    "        for passenger in self.register_list: # needs to drop off?\n",
    "            if passenger.dst_floor >= self.current_floor:\n",
    "                cont = True\n",
    "                break\n",
    "        if not cont and len(self.register_list) < self.capacity: # can pick up\n",
    "            for passenger in self.building.waiting_list: # need pick up?\n",
    "                if passenger.start_floor >= self.current_floor:\n",
    "                    cont = True\n",
    "                    break\n",
    "        if not cont:\n",
    "            self.direction_up = False\n",
    "    \n",
    "    else: # check if continue going down?\n",
    "        cont = False\n",
    "        for passenger in self.register_list:\n",
    "            if passenger.dst_floor <= self.current_floor:\n",
    "                cont = True\n",
    "                break\n",
    "        if not cont and len(self.register_list) < self.capacity:\n",
    "            for passenger in self.building.waiting_list:\n",
    "                if passenger.start_floor <= self.current_floor:\n",
    "                    cont = True\n",
    "                    break\n",
    "        if not cont:\n",
    "            self.direction_up = True\n"
   ]
  },
  {
   "cell_type": "code",
   "execution_count": 24,
   "metadata": {
    "cocalc": {
     "outputs": {
      "0": {
       "name": "input",
       "opts": {
        "password": false,
        "prompt": "Please write number of floors in the building: "
       },
       "output_type": "stream",
       "value": "10"
      },
      "1": {
       "name": "input",
       "opts": {
        "password": false,
        "prompt": "Please write number of passengers: "
       },
       "output_type": "stream",
       "value": "1000"
      }
     }
    },
    "scrolled": false
   },
   "outputs": [
    {
     "name": "stdout",
     "output_type": "stream",
     "text": [
      "Please write number of floors in the building: 5\n",
      "Please write number of passengers: 4\n",
      "Please write maximum capacity of the elevator: 2\n",
      "Default Strategy\n",
      "Elevator picks up passenger 0 on floor 0\n",
      "Elevator picks up passenger 1 on floor 0\n",
      "Elevator drops off passenger 0 on floor 2\n",
      "Elevator drops off passenger 1 on floor 4\n",
      "Elevator picks up passenger 2 on floor 4\n",
      "Elevator picks up passenger 3 on floor 1\n",
      "Elevator drops off passenger 2 on floor 0\n",
      "Elevator drops off passenger 3 on floor 0\n",
      "Wait time of passengers [5, 10, 25, 25]\n"
     ]
    },
    {
     "data": {
      "image/png": "[encoded data removed]",
      "text/plain": [
       "<matplotlib.figure.Figure at 0x113ed6350>"
      ]
     },
     "metadata": {},
     "output_type": "display_data"
    },
    {
     "name": "stdout",
     "output_type": "stream",
     "text": [
      "Number of steps for default strategy: 28\n",
      "Bad Strategy\n",
      "Elevator picks up passenger 0 on floor 0\n",
      "Elevator picks up passenger 1 on floor 0\n",
      "Elevator drops off passenger 0 on floor 2\n",
      "Elevator drops off passenger 1 on floor 4\n",
      "Elevator picks up passenger 2 on floor 4\n",
      "Elevator picks up passenger 3 on floor 1\n",
      "Elevator drops off passenger 2 on floor 0\n",
      "Elevator drops off passenger 3 on floor 0\n",
      "Wait time of passengers [5, 10, 21, 21]\n"
     ]
    },
    {
     "data": {
      "image/png": "[encoded data removed]",
      "text/plain": [
       "<matplotlib.figure.Figure at 0x1137a9150>"
      ]
     },
     "metadata": {},
     "output_type": "display_data"
    },
    {
     "name": "stdout",
     "output_type": "stream",
     "text": [
      "Number of steps for bad strategy: 24\n",
      "Smart train strategy\n",
      "Elevator picks up passenger 0 on floor 0\n",
      "Elevator picks up passenger 1 on floor 0\n",
      "Elevator drops off passenger 0 on floor 2\n",
      "Elevator drops off passenger 1 on floor 4\n",
      "Elevator picks up passenger 2 on floor 4\n",
      "Elevator picks up passenger 3 on floor 1\n",
      "Elevator drops off passenger 2 on floor 0\n",
      "Elevator drops off passenger 3 on floor 0\n",
      "Wait time of passengers [5, 10, 21, 21]\n"
     ]
    },
    {
     "data": {
      "image/png": "[encoded data removed]",
      "text/plain": [
       "<matplotlib.figure.Figure at 0x113deb210>"
      ]
     },
     "metadata": {},
     "output_type": "display_data"
    },
    {
     "name": "stdout",
     "output_type": "stream",
     "text": [
      "Number of steps for smart strategy: 24\n"
     ]
    }
   ],
   "source": [
    "def main():\n",
    "    \"\"\"Main function\"\"\"\n",
    "    \n",
    "    #Make a building and copy it's initialization, once per strategy\n",
    "    building_def = Building(strategy_func = direction_default_strategy, verbose = True)\n",
    "    building_bad = deepcopy(building_def)\n",
    "    building_smart = deepcopy(building_def)\n",
    "    \n",
    "    print \"Default Strategy\"\n",
    "    print \"Number of steps for default strategy: \" + str(building_def.run())\n",
    "    \n",
    "    print \"Bad Strategy\"\n",
    "    building_bad.strategy_func = direction_bad_strategy\n",
    "    print \"Number of steps for bad strategy: \" + str(building_bad.run())\n",
    "    \n",
    "    print \"Smart train strategy\"\n",
    "    building_smart.strategy_func = smart_train_strategy\n",
    "    print \"Number of steps for smart strategy: \" + str(building_smart.run())\n",
    "\n",
    "if __name__ == \"__main__\":\n",
    "    main()"
   ]
  },
  {
   "cell_type": "code",
   "execution_count": 25,
   "metadata": {},
   "outputs": [
    {
     "name": "stdout",
     "output_type": "stream",
     "text": [
      "(317, 317, 313)\n",
      "(444, 440, 432)\n",
      "(58, 50, 46)\n",
      "(170, 170, 162)\n",
      "(162, 158, 150)\n",
      "(193, 189, 185)\n",
      "(144, 140, 136)\n",
      "(440, 436, 428)\n",
      "(195, 191, 191)\n",
      "(480, 476, 448)\n",
      "(444, 440, 428)\n",
      "(362, 358, 346)\n",
      "(42, 38, 38)\n",
      "(318, 314, 310)\n",
      "(237, 233, 233)\n",
      "(205, 205, 193)\n",
      "(251, 239, 207)\n",
      "(156, 156, 152)\n",
      "(203, 199, 199)\n",
      "(161, 153, 145)\n",
      "(345, 341, 337)\n",
      "(94, 94, 90)\n",
      "(296, 292, 280)\n",
      "(330, 330, 326)\n",
      "(53, 49, 45)\n",
      "(513, 513, 497)\n",
      "(249, 249, 245)\n",
      "(212, 208, 140)\n",
      "(204, 200, 192)\n",
      "(116, 116, 112)\n",
      "(690, 686, 674)\n",
      "(259, 235, 207)\n",
      "(105, 101, 97)\n",
      "(255, 251, 247)\n",
      "(1346, 1346, 1126)\n",
      "(172, 168, 164)\n",
      "(580, 580, 564)\n",
      "(1128, 1124, 932)\n",
      "(381, 377, 369)\n",
      "(348, 344, 324)\n",
      "(412, 408, 368)\n",
      "(736, 732, 704)\n",
      "(191, 187, 183)\n",
      "(471, 471, 435)\n",
      "(152, 148, 148)\n",
      "(212, 208, 204)\n",
      "(539, 535, 523)\n",
      "(338, 334, 330)\n",
      "(172, 172, 164)\n",
      "(366, 366, 358)\n"
     ]
    }
   ],
   "source": [
    "def test_all(levels, passengers, capacity):\n",
    "    building_def = Building(direction_default_strategy, levels, passengers, capacity, verbose = False)\n",
    "    building_bad = deepcopy(building_def)\n",
    "    building_smart = deepcopy(building_def)\n",
    "    building_bad.strategy_func = direction_bad_strategy\n",
    "    building_smart.strategy_func = smart_train_strategy\n",
    "    \n",
    "    return (building_def.run(), building_bad.run(), building_smart.run())\n",
    "    \n",
    "# for quick mass-testing in different scenarios\n",
    "for i in range(50):\n",
    "    # create test scenarios with random floors, passengers and capacity\n",
    "    print test_all(randint(3, 50), randint(10, 100), randint(3, 20))"
   ]
  },
  {
   "cell_type": "code",
   "execution_count": null,
   "metadata": {},
   "outputs": [],
   "source": []
  }
 ],
 "metadata": {
  "kernelspec": {
   "display_name": "Python 2",
   "language": "python",
   "name": "python2"
  },
  "language_info": {
   "codemirror_mode": {
    "name": "ipython",
    "version": 2
   },
   "file_extension": ".py",
   "mimetype": "text/x-python",
   "name": "python",
   "nbconvert_exporter": "python",
   "pygments_lexer": "ipython2",
   "version": "2.7.13"
  }
 },
 "nbformat": 4,
 "nbformat_minor": 1
}
