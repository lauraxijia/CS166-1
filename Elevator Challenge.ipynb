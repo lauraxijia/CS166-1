{
 "cells": [
  {
   "cell_type": "markdown",
   "metadata": {
    "collapsed": false
   },
   "source": [
    "* By passenger, we mean someone in the building who is waiting to use or is currently using the elevator.\n",
    "* The user of your classes should be able to customize the number of floors and passengers in the building.\n",
    "* The passenger’s starting floor should be random, and they should have a random destination. (It’s up to you to determine what random should mean here.)\n",
    "* Each passenger uses the elevator only once.\n",
    "* Each passenger uses the elevator only once.\n",
    "* (Would be nice) The program should have error checking to ensure valid user input."
   ]
  },
  {
   "cell_type": "code",
   "execution_count": 6,
   "metadata": {
    "collapsed": false
   },
   "outputs": [
    {
     "name": "stdout",
     "output_type": "stream",
     "text": [
      "\n"
     ]
    }
   ],
   "source": [
    "from random import randint\n",
    "from copy import deepcopy\n",
    "\n",
    "class Elevator(object):\n",
    "    \"\"\"An elevator class.\n",
    "    It has position, passengers inside and direction.\n",
    "    \"\"\"\n",
    "\n",
    "    def __init__(self, n_floors, n_passengers, capacity = 15, verbose = True):\n",
    "        self.num_of_floors = n_floors\n",
    "        self.current_floor = 0\n",
    "        self.direction = True\n",
    "        self.register_list = []\n",
    "        self.capacity = capacity\n",
    "        self.strategy = 0\n",
    "        self.passengers_num = n_passengers\n",
    "        self.verbose = verbose\n",
    " \n",
    "        self.waiting_list = []\n",
    "        for i in range(self.passengers_num):\n",
    "            self.waiting_list.append(Passenger(i, self.num_of_floors))\n",
    "\n",
    "        # self.waiting_list = sorted(self.waiting_list, key=lambda x: x.start_floor)\n",
    "        # sorted for performance reason\n",
    "\n",
    "    def move(self):\n",
    "        \"\"\"Method for elevator movement.\n",
    "        In every step elevator either goes a floor higher or a floor lower.\n",
    "        \"\"\"\n",
    "        self.current_floor += 1 if self.direction else -1\n",
    "\n",
    "    def enter_passengers(self):\n",
    "        \"\"\"Method to get in all passengers and erase them from the list\n",
    "        \"\"\"\n",
    "        for passenger in self.waiting_list:\n",
    "            if passenger.start_floor == self.current_floor and len(self.register_list) < self.capacity:\n",
    "                self.register_list.append(passenger)\n",
    "                self.waiting_list.remove(passenger)\n",
    "                if self.verbose: print (\"Elevator picks up passenger %d on floor %d\"% (passenger.ID, passenger.start_floor))\n",
    "\n",
    "    def exit_passengers(self):\n",
    "        \"\"\"Function to remove all passengers on their destination floor.\n",
    "        It is called in run method of the building class.\n",
    "        \"\"\"\n",
    "        for passenger in self.register_list:\n",
    "            if passenger.dst_floor == self.current_floor:\n",
    "                self.register_list.remove(passenger)\n",
    "                if self.verbose: print(\"Elevator drops off passenger %d on floor %d\"% (passenger.ID, passenger.dst_floor))\n",
    "    \"\"\"\n",
    "    def direction_default_strategy(self):\n",
    "        \"\"\"Default function of elewator work - \n",
    "        it starts with going to the roof of building, then\n",
    "        comes back to the first floor.\n",
    "        \"\"\"\n",
    "        if self.current_floor >= self.num_of_floors - 1:\n",
    "            self.direction = False\n",
    "        elif self.current_floor <= 0:\n",
    "            self.direction = True\n",
    "\n",
    "    def direction_bad_strategy(self):\n",
    "        \"\"\"Example function of very bad strategy.\n",
    "        Elevator takes desired floor of the first\n",
    "        passenger and elevates him to desired location,\n",
    "        then repeats for the next passenger.\n",
    "        If no passenger is in elevator it just goes to the up and down,\n",
    "        as in default strategy.\n",
    "        \"\"\"\n",
    "        if len(self.register_list) is 0:\n",
    "            self.direction_default_strategy()\n",
    "            return\n",
    "        firstval = self.register_list[0].dst_floor\n",
    "        if self.current_floor > firstval:\n",
    "            self.direction = False\n",
    "        else:\n",
    "            self.direction = True\n"
   ]
  },
  {
   "cell_type": "code",
   "execution_count": 7,
   "metadata": {
    "collapsed": false
   },
   "outputs": [],
   "source": [
    "class Passenger(object):\n",
    "    \"\"\"A passenger class. \n",
    "    A passenger has his or her ID number, starting floor and destination floor number\n",
    "    \"\"\"\n",
    "\n",
    "    def __init__(self, ID, floorsNum):\n",
    "        \"\"\"Initializes values for passenger and select random floors to start\n",
    "        Destination floor and starting floor differ\n",
    "        \"\"\"\n",
    "        self.ID = ID\n",
    "        self.start_time = 0 # For wait time calculation\n",
    "        self.start_floor = randint(0, floorsNum-1)  #works for now, would be interesting to use different distributions\n",
    "        self.dst_floor = randint(0, floorsNum-2)    #same as above\n",
    "\n",
    "        if self.dst_floor == self.start_floor:\n",
    "            self.dst_floor += 1 # this will bias the destination floors upward\n",
    "\n",
    "        # Lets add an attribute for wait_time here and increase that until they reach destination\n"
   ]
  },
  {
   "cell_type": "code",
   "execution_count": 10,
   "metadata": {
    "collapsed": false
   },
   "outputs": [],
   "source": [
    "class Building(object):\n",
    "    \"\"\"A building class.\n",
    "    Building had number of floors, list of passengers outside the elevator and its own elevator object.\n",
    "    Strategy of an elevator is set by integer, where 0 is default and 1 is another very naive strategy.\n",
    "    \"\"\"\n",
    "\n",
    "    def __init__(self, verbose = True):\n",
    "        \"\"\"Makes building class and addes lust of passengers\n",
    "        The list is sorted by starting floor value for efficacy.\n",
    "        \"\"\"\n",
    "        self.num_of_floors = self.get_value(\"Please write number of floors in the building: \",\\\n",
    "                                   \"Incorrect value. Number of floors should be integer higher than 1.\", 2)\n",
    "\n",
    "        passengers_num = self.get_value(\"Please write number of passengers: \",\\\n",
    "                                    \"Incorrect value. Number of passengers should be non-negative integer.\", 0)\n",
    "        self.elevator = Elevator(self.num_of_floors,passengers_num, verbose)\n",
    "\n",
    "    def get_value(self,message,incorret_message,minimal):\n",
    "        \"\"\"Method for making sure to obtain integers\n",
    "        \"\"\"\n",
    "        val = None\n",
    "        try:\n",
    "            val = int(raw_input(message))\n",
    "        except ValueError:\n",
    "            print incorret_message\n",
    "            return self.get_value(message, incorret_message, minimal)\n",
    "        if val < minimal:\n",
    "            print incorret_message\n",
    "            return self.get_value(message, incorret_message, minimal)\n",
    "        else:\n",
    "            return val\n",
    "\n",
    "    def run(self):\n",
    "        \"\"\"Step function. When called:\n",
    "        1. waiting passengers enter the elevator (register_passenger)\n",
    "        2. the elevator is assigned a direction value\n",
    "        3. elevator moves one floor up or down\n",
    "        4. passengers on destination floors leaves the elevator (cancel_passenger)\n",
    "        \"\"\"\n",
    "        self.elevator.enter_passengers()\n",
    "        # self.elevator.strategy (attribute of the building class)\n",
    "        if self.elevator.strategy == 0:\n",
    "            self.elevator.direction_default_strategy()\n",
    "        else:\n",
    "            self.elevator.direction_bad_strategy()\n",
    "        self.elevator.move()\n",
    "        self.elevator.exit_passengers()\n",
    "\n",
    "    def output(self):\n",
    "        \"\"\"Return total number of steps taken\n",
    "        \"\"\"\n",
    "        total_steps = 0 \n",
    "        while self.elevator.waiting_list or self.elevator.register_list:\n",
    "            self.run()\n",
    "            total_steps += 1\n",
    "        print (total_steps)\n"
   ]
  },
  {
   "cell_type": "code",
   "execution_count": 19,
   "metadata": {
    "collapsed": true
   },
   "outputs": [],
   "source": [
    "def direction_default_strategy(self):\n",
    "        \"\"\"Default function of elewator work - \n",
    "        it starts with going to the roof of building, then\n",
    "        comes back to the first floor.\n",
    "        \"\"\"\n",
    "        if self.current_floor >= self.num_of_floors - 1:\n",
    "            self.direction = False\n",
    "        elif self.current_floor <= 0:\n",
    "            self.direction = True\n",
    "            \n",
    "def direction_bad_strategy(self):\n",
    "        \"\"\"Example function of very bad strategy.\n",
    "        Elevator takes desired floor of the first\n",
    "        passenger and elevates him to desired location,\n",
    "        then repeats for the next passenger.\n",
    "        If no passenger is in elevator it just goes to the up and down,\n",
    "        as in default strategy.\n",
    "        \"\"\"\n",
    "        if len(self.register_list) is 0:\n",
    "            self.direction_default_strategy()\n",
    "            return\n",
    "        firstval = self.register_list[0].dst_floor\n",
    "        if self.current_floor > firstval:\n",
    "            self.direction = False\n",
    "        else:\n",
    "            self.direction = True"
   ]
  },
  {
   "cell_type": "code",
   "execution_count": 18,
   "metadata": {
    "cocalc": {
     "outputs": {
      "0": {
       "name": "input",
       "opts": {
        "password": false,
        "prompt": "Please write number of floors in the building: "
       },
       "output_type": "stream",
       "value": "10"
      },
      "1": {
       "name": "input",
       "opts": {
        "password": false,
        "prompt": "Please write number of passengers: "
       },
       "output_type": "stream",
       "value": "1000"
      }
     }
    },
    "collapsed": false,
    "scrolled": true
   },
   "outputs": [
    {
     "name": "stdout",
     "output_type": "stream",
     "text": [
      "Please write number of floors in the building: 2\n",
      "Please write number of passengers: 2\n",
      " Number of steps for default strategy: Elevator picks up passenger 0 on floor 0\n",
      "Elevator drops off passenger 0 on floor 1\n",
      "Elevator picks up passenger 1 on floor 1\n",
      "Elevator drops off passenger 1 on floor 0\n",
      "2\n",
      "None\n",
      "1\n",
      "Number of steps for bad strategy: Elevator picks up passenger 0 on floor 0\n",
      "Elevator drops off passenger 0 on floor 1\n",
      "Elevator picks up passenger 1 on floor 1\n",
      "Elevator drops off passenger 1 on floor 0\n",
      "2\n",
      "None\n"
     ]
    }
   ],
   "source": [
    " def main():\n",
    "    \"\"\"Main function\"\"\"\n",
    "    building_def = Building(verbose = True)\n",
    "    building_bad = deepcopy(building_def)\n",
    "    print \"Number of steps for default strategy:\", building_def.output()\n",
    "\n",
    "    building_bad.elevator.strategy = 1\n",
    "    print \"Number of steps for bad strategy:\", building_bad.output()\n",
    "\n",
    "if __name__ == \"__main__\":\n",
    "    main()"
   ]
  },
  {
   "cell_type": "code",
   "execution_count": null,
   "metadata": {
    "collapsed": true
   },
   "outputs": [],
   "source": []
  }
 ],
 "metadata": {
  "kernelspec": {
   "display_name": "Python 2",
   "language": "python",
   "name": "python2"
  },
  "language_info": {
   "codemirror_mode": {
    "name": "ipython",
    "version": 2
   },
   "file_extension": ".py",
   "mimetype": "text/x-python",
   "name": "python",
   "nbconvert_exporter": "python",
   "pygments_lexer": "ipython2",
   "version": "2.7.10"
  }
 },
 "nbformat": 4,
 "nbformat_minor": 0
}
