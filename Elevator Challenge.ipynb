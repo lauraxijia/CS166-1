{
 "cells": [
  {
   "cell_type": "markdown",
   "metadata": {},
   "source": [
    "* By passenger, we mean someone in the building who is waiting to use or is currently using the elevator.\n",
    "* The user of your classes should be able to customize the number of floors and passengers in the building.\n",
    "* The passenger’s starting floor should be random, and they should have a random destination. (It’s up to you to determine what random should mean here.)\n",
    "* Each passenger uses the elevator only once.\n",
    "* Each passenger uses the elevator only once.\n",
    "* (Would be nice) The program should have error checking to ensure valid user input."
   ]
  },
  {
   "cell_type": "code",
   "execution_count": 16,
   "metadata": {
    "collapsed": true
   },
   "outputs": [],
   "source": [
    "import random\n",
    "from random import randint\n",
    "from copy import deepcopy"
   ]
  },
  {
   "cell_type": "code",
   "execution_count": 29,
   "metadata": {
    "collapsed": true
   },
   "outputs": [],
   "source": [
    "class Elevator(object):\n",
    "    \"\"\"An elevator class. \n",
    "    It has position, passengers inside and direction. \n",
    "    \"\"\"\n",
    "\n",
    "    def __init__(self, building, strategy_func, verbose, capacity = 10):\n",
    "        self.current_floor = 0\n",
    "        self.direction = True # True is up, False is down\n",
    "        self.register_list = [] # passengers inside elevator\n",
    "        self.capacity = capacity \n",
    "        self.verbose = verbose #whether we want to print or not\n",
    "        self.strategy_func = strategy_func\n",
    "        self.building = building # reference to building, circular reference is okay in this case \n",
    "                                 # since we don't need to worry about garbage collection when each is \n",
    "                                 # only instantiated twice\n",
    "                                 # http://engineering.hearsaysocial.com/2013/06/16/circular-references-in-python/          \n",
    "\n",
    "    def move(self):\n",
    "        \"\"\"Method for elevator movement.\n",
    "        In every step elevator either goes a floor higher or a floor lower.\n",
    "        \"\"\"\n",
    "        self.current_floor += 1 if self.direction else -1\n",
    "    \n",
    "    def enter_passengers(self):\n",
    "        \"\"\"Method to get in all passengers and erase them from the list\n",
    "        Gets waiting passengers at current floor as long as capacity permits and they are going in elevator direction\n",
    "        \"\"\"\n",
    "        entered = False\n",
    "        for passenger in [waiter for waiter in self.building.waiting_list]: # copy so we can rm from original list\n",
    "            if (passenger.start_floor == self.current_floor and len(self.register_list) < self.capacity and\n",
    "                (self.current_floor == 0 or self.current_floor == self.building.num_of_floors - 1 or \n",
    "                 (self.direction and passenger.start_floor < passenger.dst_floor) or \n",
    "                 (not self.direction and passenger.start_floor > passenger.dst_floor))):\n",
    "                \n",
    "                entered = True\n",
    "                self.register_list.append(passenger)\n",
    "                self.building.waiting_list.remove(passenger)\n",
    "                if self.verbose: \n",
    "                    print (\"Elevator picks up passenger %d on floor %d\"% (passenger.ID, passenger.start_floor))\n",
    "        return entered # return value so we can track if time cost was incurred\n",
    "            \n",
    "    def exit_passengers(self):\n",
    "        \"\"\"Function to remove all passengers on their destination floor.\n",
    "        It is called in run method of the building class.\n",
    "        \"\"\"\n",
    "        exited = False\n",
    "        for passenger in [reg for reg in self.register_list]:\n",
    "            if passenger.dst_floor == self.current_floor:\n",
    "                exited = True\n",
    "                self.register_list.remove(passenger)\n",
    "                passenger.end_waittime = self.building.time_step\n",
    "                self.building.list_of_waittimes.append(passenger.end_waittime - passenger.start_waittime)\n",
    "                if self.verbose: \n",
    "                    print(\"Elevator drops off passenger %d on floor %d\"% (passenger.ID, passenger.dst_floor))\n",
    "        return exited # return value to track if time cost was incured"
   ]
  },
  {
   "cell_type": "code",
   "execution_count": 30,
   "metadata": {
    "collapsed": true
   },
   "outputs": [],
   "source": [
    "class Passenger(object):\n",
    "    \"\"\"A passenger class. \n",
    "    A passenger has his or her ID number, starting floor and destination floor number\n",
    "    \"\"\"\n",
    "\n",
    "    def __init__(self, ID, floorsNum):\n",
    "        \"\"\"Initializes values for passenger and select random floors to start\n",
    "        Destination floor and starting floor differ\n",
    "        \"\"\"\n",
    "        self.ID = ID\n",
    "        self.start_floor = random.choice([0] * (floorsNum // 2) + [i for i in range(floorsNum)])\n",
    "        self.dst_floor = random.choice([0] * (self.start_floor != 0) * (floorsNum // 2) + [i for i in range(floorsNum) if i != self.start_floor])\n",
    "        self.start_waittime = 0\n",
    "        self.end_waittime = None"
   ]
  },
  {
   "cell_type": "code",
   "execution_count": 31,
   "metadata": {
    "collapsed": true
   },
   "outputs": [],
   "source": [
    "class Building(object):\n",
    "    \"\"\"A building class.\n",
    "    Building had number of floors, list of passengers outside the elevator and its own elevator object.\n",
    "    Strategy of an elevator is set by integer, where 0 is default and 1 is another very naive strategy.\n",
    "    \"\"\"\n",
    "    MOVE_COST_FACTOR = 2\n",
    "    ENTER_COST_FACTOR = 1\n",
    "    EXIT_COST_FACTOR = 1 \n",
    "\n",
    "    def __init__(self, strategy_func, verbose = True):\n",
    "        \"\"\"Makes building class and addes list of passengers\n",
    "        The list is sorted by starting floor value for efficacy.\n",
    "        \"\"\"\n",
    "        self.num_of_floors = self.get_value(\"Please write number of floors in the building: \",\\\n",
    "                                   \"Incorrect value. Number of floors should be integer higher than 1.\", 2)\n",
    "\n",
    "        self.passengers_num = self.get_value(\"Please write number of passengers: \",\\\n",
    "                                    \"Incorrect value. Number of passengers should be non-negative integer.\", 0)\n",
    "        \n",
    "        self.verbose = verbose\n",
    "        self.elevator = Elevator(self, strategy_func, verbose)\n",
    "        self.time_step = 0 \n",
    "        self.list_of_waittimes = [] \n",
    "        \n",
    "        self.waiting_list = []\n",
    "        for i in range(self.passengers_num):\n",
    "            self.waiting_list.append(Passenger(i, self.num_of_floors))\n",
    "            self.waiting_list = sorted(self.waiting_list, key=lambda x: x.start_floor) \n",
    "    \n",
    "    def get_value(self, message, incorret_message, minimal):\n",
    "        \"\"\"Method for making sure to obtain integer input\n",
    "        \"\"\"\n",
    "        val = None\n",
    "        try:\n",
    "            val = int(raw_input(message))\n",
    "        except ValueError:\n",
    "            print incorret_message\n",
    "            return self.get_value(message, incorret_message, minimal)\n",
    "        if val < minimal:\n",
    "            print incorret_message\n",
    "            return self.get_value(message, incorret_message, minimal)\n",
    "        else:\n",
    "            return val\n",
    "\n",
    "    def run(self):\n",
    "        \"\"\"Runs the elevator until done, in each iteration:\n",
    "        1. waiting passengers enter the elevator (register_passenger)\n",
    "        2. the elevator is assigned a direction value\n",
    "        3. elevator moves one floor up or down\n",
    "        4. passengers on destination floors leaves the elevator (cancel_passenger)\n",
    "        \"\"\"        \n",
    "        \n",
    "        while self.waiting_list or self.elevator.register_list:\n",
    "            exit = self.elevator.exit_passengers()\n",
    "            enter = self.elevator.enter_passengers()\n",
    "            self.elevator.strategy_func(self.elevator)\n",
    "            self.elevator.move()\n",
    "            self.time_step += Building.MOVE_COST_FACTOR * 1  + Building.EXIT_COST_FACTOR * exit + Building.ENTER_COST_FACTOR * enter \n",
    "        \n",
    "        if self.verbose:  print (\"Wait time of passengers\", self.list_of_waittimes)\n",
    "        return self.time_step"
   ]
  },
  {
   "cell_type": "code",
   "execution_count": 36,
   "metadata": {
    "collapsed": true
   },
   "outputs": [],
   "source": [
    "# Here we define the different strategies our elevator can follow\n",
    "def direction_default_strategy(self):\n",
    "    \"\"\"Default function of elevator work - \n",
    "    it starts with going to the roof of building, then\n",
    "    comes back to the first floor.\n",
    "    \"\"\"\n",
    "    if self.current_floor >= self.building.num_of_floors:\n",
    "         self.direction = False\n",
    "    elif self.current_floor <= 0:\n",
    "        self.direction = True\n",
    "\n",
    "def direction_bad_strategy(self):\n",
    "    \"\"\"Example function of very bad strategy. Elevator takes desired floor of the first\n",
    "    passenger and elevates him to desired location, then repeats for the next passenger.\n",
    "    If no passenger is in elevator it just goes to the up and down, as in default strategy.\n",
    "    \"\"\"\n",
    "    if len(self.register_list) is 0:\n",
    "        direction_default_strategy(self)\n",
    "        return\n",
    "    firstval = self.register_list[0].dst_floor\n",
    "    if self.current_floor > firstval:\n",
    "        self.direction = False\n",
    "    else:\n",
    "        self.direction = True"
   ]
  },
  {
   "cell_type": "code",
   "execution_count": 37,
   "metadata": {
    "cocalc": {
     "outputs": {
      "0": {
       "name": "input",
       "opts": {
        "password": false,
        "prompt": "Please write number of floors in the building: "
       },
       "output_type": "stream",
       "value": "10"
      },
      "1": {
       "name": "input",
       "opts": {
        "password": false,
        "prompt": "Please write number of passengers: "
       },
       "output_type": "stream",
       "value": "1000"
      }
     }
    },
    "collapsed": false,
    "scrolled": false
   },
   "outputs": [
    {
     "name": "stdout",
     "output_type": "stream",
     "text": [
      "Please write number of floors in the building: 100\n",
      "Please write number of passengers: 100\n",
      "\n",
      "('Number of steps for default strategy:', 1516)\n",
      "('Number of steps for bad strategy:', 1516)\n"
     ]
    }
   ],
   "source": [
    "def main():\n",
    "    \"\"\"Main function\"\"\"\n",
    "    building_def = Building(strategy_func = direction_default_strategy, verbose = False)\n",
    "    building_bad = deepcopy(building_def)\n",
    "    building_bad.elevator.strategy_func = direction_bad_strategy\n",
    "    building_bad.strategy_func = direction_bad_strategy\n",
    "    print \"\"    \n",
    "    print (\"Number of steps for default strategy:\", building_def.run())\n",
    "    print (\"Number of steps for bad strategy:\", building_bad.run())\n",
    "\n",
    "if __name__ == \"__main__\":\n",
    "    main()"
   ]
  },
  {
   "cell_type": "code",
   "execution_count": null,
   "metadata": {
    "collapsed": true
   },
   "outputs": [],
   "source": []
  }
 ],
 "metadata": {
  "kernelspec": {
   "display_name": "Python 2",
   "language": "python",
   "name": "python2"
  },
  "language_info": {
   "codemirror_mode": {
    "name": "ipython",
    "version": 2
   },
   "file_extension": ".py",
   "mimetype": "text/x-python",
   "name": "python",
   "nbconvert_exporter": "python",
   "pygments_lexer": "ipython2",
   "version": "2.7.10"
  }
 },
 "nbformat": 4,
 "nbformat_minor": 0
}
