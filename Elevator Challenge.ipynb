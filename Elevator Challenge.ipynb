{
 "cells": [
  {
<<<<<<< HEAD
   "cell_type": "code",
   "execution_count": 21,
   "metadata": {
    "collapsed": true
   },
=======
   "cell_type": "markdown",
   "metadata": {},
   "source": [
    "* By passenger, we mean someone in the building who is waiting to use or is currently using the elevator.\n",
    "* The user of your classes should be able to customize the number of floors and passengers in the building.\n",
    "* The passenger’s starting floor should be random, and they should have a random destination. (It’s up to you to determine what random should mean here.)\n",
    "* Each passenger uses the elevator only once.\n",
    "* Each passenger uses the elevator only once.\n",
    "* (Would be nice) The program should have error checking to ensure valid user input."
   ]
  },
  {
   "cell_type": "code",
   "execution_count": 61,
   "metadata": {},
>>>>>>> origin/master
   "outputs": [],
   "source": [
    "import random\n",
    "from random import randint\n",
    "from copy import deepcopy\n",
    "\n",
    "class Elevator(object):\n",
    "    \"\"\"An elevator class. \n",
    "    It has position, passengers inside and direction. \n",
    "    \"\"\"\n",
    "\n",
<<<<<<< HEAD
    "    def __init__(self, building, verbose, capacity = 10):\n",
=======
    "    def __init__(self, building, capacity = 10):\n",
>>>>>>> origin/master
    "        self.current_floor = 0\n",
    "        self.direction = True # True is up, False is down\n",
    "        self.register_list = [] # passengers inside elevator\n",
    "        self.capacity = capacity \n",
<<<<<<< HEAD
    "        self.verbose = verbose #whether we want to print or not\n",
=======
>>>>>>> origin/master
    "        self.strategy = 0 \n",
    "        self.building = building # reference to building, circular reference is okay in this case \n",
    "                                 # since we don't need to worry about garbage collection when each is \n",
    "                                 # only instantiated twice\n",
    "                                 # http://engineering.hearsaysocial.com/2013/06/16/circular-references-in-python/          \n",
    "\n",
    "    def move(self):\n",
    "        \"\"\"Method for elevator movement.\n",
    "        In every step elevator either goes a floor higher or a floor lower.\n",
    "        \"\"\"\n",
    "        self.current_floor += 1 if self.direction else -1\n",
    "    \n",
    "    def enter_passengers(self):\n",
    "        \"\"\"Method to get in all passengers and erase them from the list\n",
    "        Gets waiting passengers at current floor as long as capacity permits and they are going in elevator direction\n",
    "        \"\"\"\n",
    "        entered = False\n",
    "        for passenger in [waiter for waiter in self.building.waiting_list]: # copy so we can rm from original list\n",
    "            if (passenger.start_floor == self.current_floor and len(self.register_list) < self.capacity and\n",
    "                (self.current_floor == 0 or self.current_floor == self.building.num_of_floors - 1 or \n",
    "                 (self.direction and passenger.start_floor < passenger.dst_floor) or \n",
    "                 (not self.direction and passenger.start_floor > passenger.dst_floor))):\n",
    "                \n",
    "                entered = True\n",
    "                self.register_list.append(passenger)\n",
    "                self.building.waiting_list.remove(passenger)\n",
<<<<<<< HEAD
    "                if self.verbose: \n",
    "                    print (\"Elevator picks up passenger %d on floor %d\"% (passenger.ID, passenger.start_floor))\n",
=======
    "                print (\"Elevator picks up passenger %d on floor %d\"% (passenger.ID, passenger.start_floor))\n",
>>>>>>> origin/master
    "        return entered # return value so we can track if time cost was incurred\n",
    "            \n",
    "    def exit_passengers(self):\n",
    "        \"\"\"Function to remove all passengers on their destination floor.\n",
    "        It is called in run method of the building class.\n",
    "        \"\"\"\n",
    "        exited = False\n",
    "        for passenger in [reg for reg in self.register_list]:\n",
    "            if passenger.dst_floor == self.current_floor:\n",
    "                exited = True\n",
    "                self.register_list.remove(passenger)\n",
    "                passenger.end_waittime = self.building.time_step\n",
    "                self.building.list_of_waittimes.append(passenger.end_waittime - passenger.start_waittime)\n",
<<<<<<< HEAD
    "                if self.verbose: \n",
    "                    print(\"Elevator drops off passenger %d on floor %d\"% (passenger.ID, passenger.dst_floor))\n",
=======
    "                print(\"Elevator drops off passenger %d on floor %d\"% (passenger.ID, passenger.dst_floor))\n",
>>>>>>> origin/master
    "        return exited # return value to track if time cost was incured\n",
    "\n",
    "    def direction_default_strategy(self):\n",
    "        \"\"\"Default function of elevator work - \n",
    "        it starts with going to the roof of building, then\n",
    "        comes back to the first floor.\n",
    "        \"\"\"\n",
    "        if self.current_floor >= self.building.num_of_floors:\n",
    "            self.direction = False\n",
    "        elif self.current_floor <= 0:\n",
    "            self.direction = True\n",
    "\n",
    "    def direction_bad_strategy(self):\n",
    "        \"\"\"Example function of very bad strategy. Elevator takes desired floor of the first\n",
    "        passenger and elevates him to desired location, then repeats for the next passenger.\n",
    "        If no passenger is in elevator it just goes to the up and down, as in default strategy.\n",
    "        \"\"\"\n",
    "        if len(self.register_list) is 0:\n",
    "            self.direction_default_strategy()\n",
    "            return\n",
    "        firstval = self.register_list[0].dst_floor\n",
    "        if self.current_floor > firstval:\n",
    "            self.direction = False\n",
    "        else:\n",
    "            self.direction = True"
   ]
  },
  {
   "cell_type": "code",
<<<<<<< HEAD
   "execution_count": 22,
   "metadata": {
    "collapsed": true
   },
=======
   "execution_count": 62,
   "metadata": {},
>>>>>>> origin/master
   "outputs": [],
   "source": [
    "class Passenger(object):\n",
    "    \"\"\"A passenger class. \n",
    "    A passenger has his or her ID number, starting floor and destination floor number\n",
    "    \"\"\"\n",
    "\n",
    "    def __init__(self, ID, floorsNum):\n",
    "        \"\"\"Initializes values for passenger and select random floors to start\n",
    "        Destination floor and starting floor differ\n",
    "        \"\"\"\n",
    "        self.ID = ID\n",
    "        self.start_floor = random.choice([0] * (floorsNum // 2) + [i for i in range(floorsNum)])\n",
    "        self.dst_floor = random.choice([0] * (self.start_floor != 0) * (floorsNum // 2) + [i for i in range(floorsNum) if i != self.start_floor])\n",
    "        self.start_waittime = 0\n",
<<<<<<< HEAD
    "        self.end_waittime = None"
=======
    "        self.end_waittime = None \n"
>>>>>>> origin/master
   ]
  },
  {
   "cell_type": "code",
<<<<<<< HEAD
   "execution_count": 23,
   "metadata": {
    "collapsed": true
   },
=======
   "execution_count": 63,
   "metadata": {},
>>>>>>> origin/master
   "outputs": [],
   "source": [
    "class Building(object):\n",
    "    \"\"\"A building class.\n",
    "    Building had number of floors, list of passengers outside the elevator and its own elevator object.\n",
    "    Strategy of an elevator is set by integer, where 0 is default and 1 is another very naive strategy.\n",
    "    \"\"\"\n",
    "    MOVE_COST_FACTOR = 2\n",
    "    ENTER_COST_FACTOR = 1\n",
    "    EXIT_COST_FACTOR = 1 \n",
    "\n",
    "    def __init__(self, verbose = True):\n",
    "        \"\"\"Makes building class and addes lust of passengers\n",
    "        The list is sorted by starting floor value for efficacy.\n",
    "        \"\"\"\n",
    "        self.num_of_floors = self.get_value(\"Please write number of floors in the building: \",\\\n",
    "                                   \"Incorrect value. Number of floors should be integer higher than 1.\", 2)\n",
    "\n",
    "        self.passengers_num = self.get_value(\"Please write number of passengers: \",\\\n",
    "                                    \"Incorrect value. Number of passengers should be non-negative integer.\", 0)\n",
    "        \n",
<<<<<<< HEAD
    "        self.elevator = Elevator(self, verbose)\n",
=======
    "        self.elevator = Elevator(self)\n",
>>>>>>> origin/master
    "        self.time_step = 0 \n",
    "        self.list_of_waittimes = [] \n",
    "        \n",
    "        self.waiting_list = []\n",
    "        for i in range(self.passengers_num):\n",
    "            self.waiting_list.append(Passenger(i, self.num_of_floors))\n",
    "            self.waiting_list = sorted(self.waiting_list, key=lambda x: x.start_floor) \n",
    "    \n",
    "    def get_value(self, message, incorret_message, minimal):\n",
    "        \"\"\"Method for making sure to obtain integer input\n",
    "        \"\"\"\n",
    "        val = None\n",
    "        try:\n",
    "            val = int(raw_input(message))\n",
    "        except ValueError:\n",
    "            print incorret_message\n",
    "            return self.get_value(message, incorret_message, minimal)\n",
    "        if val < minimal:\n",
    "            print incorret_message\n",
    "            return self.get_value(message, incorret_message, minimal)\n",
    "        else:\n",
    "            return val\n",
    "\n",
    "    def run(self):\n",
    "        \"\"\"Runs the elevator until done, in each iteration:\n",
    "        1. waiting passengers enter the elevator (register_passenger)\n",
    "        2. the elevator is assigned a direction value\n",
    "        3. elevator moves one floor up or down\n",
    "        4. passengers on destination floors leaves the elevator (cancel_passenger)\n",
    "        \"\"\"\n",
    "        while self.waiting_list or self.elevator.register_list:\n",
    "            exit = self.elevator.exit_passengers()\n",
    "            enter = self.elevator.enter_passengers()\n",
    "            if self.elevator.strategy == 0:\n",
    "                self.elevator.direction_default_strategy()\n",
    "            else:\n",
    "                self.elevator.direction_bad_strategy()\n",
    "            self.elevator.move()\n",
    "            self.time_step += Building.MOVE_COST_FACTOR * 1  + Building.EXIT_COST_FACTOR * exit + Building.ENTER_COST_FACTOR * enter \n",
<<<<<<< HEAD
    "        return self.time_step"
=======
    "        return self.time_step\n"
>>>>>>> origin/master
   ]
  },
  {
   "cell_type": "code",
<<<<<<< HEAD
   "execution_count": 25,
   "metadata": {
    "collapsed": false
=======
   "execution_count": 65,
   "metadata": {
    "cocalc": {
     "outputs": {
      "0": {
       "name": "input",
       "opts": {
        "password": false,
        "prompt": "Please write number of floors in the building: "
       },
       "output_type": "stream",
       "value": "10"
      },
      "1": {
       "name": "input",
       "opts": {
        "password": false,
        "prompt": "Please write number of passengers: "
       },
       "output_type": "stream",
       "value": "1000"
      }
     }
    },
    "scrolled": false
>>>>>>> origin/master
   },
   "outputs": [
    {
     "name": "stdout",
     "output_type": "stream",
     "text": [
<<<<<<< HEAD
      "Please write number of floors in the building: 10\n",
      "Please write number of passengers: 10\n",
      "\n",
      "('Number of steps for default strategy:', 55)\n",
      "('Wait time of passengers for default strategy', [8, 11, 11, 18, 22, 47, 52, 52, 52, 52])\n",
      "('Number of steps for bad strategy:', 55)\n",
      "('Wait time of passengers for bad strategy', [8, 11, 11, 18, 22, 47, 52, 52, 52, 52])\n"
=======
      "Please write number of floors in the building: 50\n",
      "Please write number of passengers: 4\n",
      "\n",
      "Elevator picks up passenger 2 on floor 25\n",
      "Elevator picks up passenger 3 on floor 33\n",
      "Elevator picks up passenger 1 on floor 34\n",
      "Elevator drops off passenger 1 on floor 35\n",
      "Elevator drops off passenger 3 on floor 39\n",
      "Elevator drops off passenger 2 on floor 42\n",
      "Elevator picks up passenger 0 on floor 7\n",
      "Elevator drops off passenger 0 on floor 0\n",
      "('Number of steps for default strategy:', 210)\n",
      "('Wait time of passengers for default strategy', [73, 82, 89, 207])\n",
      "Elevator picks up passenger 2 on floor 25\n",
      "Elevator picks up passenger 3 on floor 33\n",
      "Elevator picks up passenger 1 on floor 34\n",
      "Elevator drops off passenger 1 on floor 35\n",
      "Elevator drops off passenger 3 on floor 39\n",
      "Elevator drops off passenger 2 on floor 42\n",
      "Elevator picks up passenger 0 on floor 7\n",
      "Elevator drops off passenger 0 on floor 0\n",
      "('Number of steps for bad strategy:', 210)\n",
      "('Wait time of passengers for bad strategy', [73, 82, 89, 207])\n"
>>>>>>> origin/master
     ]
    }
   ],
   "source": [
    "def main():\n",
    "    \"\"\"Main function\"\"\"\n",
    "    building_def = Building(verbose = False)\n",
    "    building_bad = deepcopy(building_def)\n",
    "    print \"\"\n",
    "    \n",
    "    print (\"Number of steps for default strategy:\", building_def.run())\n",
    "    print (\"Wait time of passengers for default strategy\",building_def.list_of_waittimes)\n",
    "    \n",
    "    building_bad.elevator.strategy = 1\n",
    "    print (\"Number of steps for bad strategy:\", building_bad.run())\n",
    "    print (\"Wait time of passengers for bad strategy\",building_bad.list_of_waittimes)\n",
    "\n",
    "if __name__ == \"__main__\":\n",
    "    main()"
   ]
  },
  {
   "cell_type": "code",
   "execution_count": null,
<<<<<<< HEAD
   "metadata": {
    "collapsed": true
   },
=======
   "metadata": {},
>>>>>>> origin/master
   "outputs": [],
   "source": []
  }
 ],
 "metadata": {
  "kernelspec": {
   "display_name": "Python 2",
   "language": "python",
   "name": "python2"
  },
  "language_info": {
   "codemirror_mode": {
    "name": "ipython",
    "version": 2
   },
   "file_extension": ".py",
   "mimetype": "text/x-python",
   "name": "python",
   "nbconvert_exporter": "python",
   "pygments_lexer": "ipython2",
<<<<<<< HEAD
   "version": "2.7.10"
  }
 },
 "nbformat": 4,
 "nbformat_minor": 0
=======
   "version": "2.7.13"
  }
 },
 "nbformat": 4,
 "nbformat_minor": 1
>>>>>>> origin/master
}
